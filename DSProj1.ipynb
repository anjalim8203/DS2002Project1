{
  "cells": [
    {
      "cell_type": "code",
      "execution_count": 1,
      "metadata": {
        "id": "6TJ4opVgcNjK"
      },
      "outputs": [],
      "source": [
        "import pandas as pd\n",
        "import requests\n",
        "import json\n",
        "import sqlite3\n",
        "\n",
        "# Define the API endpoint and access key\n",
        "url = \"https://api.weatherstack.com/current?access_key=696d3a695312dc11986589fce4d2a180\"\n",
        "querystring = {\"query\":\"New Delhi\"}"
      ]
    },
    {
      "cell_type": "code",
      "execution_count": 2,
      "metadata": {
        "colab": {
          "base_uri": "https://localhost:8080/"
        },
        "id": "EWqNj-oZcmuS",
        "outputId": "e93af343-9900-4c3e-ae72-5402af2d6832"
      },
      "outputs": [
        {
          "name": "stdout",
          "output_type": "stream",
          "text": [
            "Would you like to explore olympics 2024 medals data or weather data? Choose olympics or weather: olympics\n",
            "You chose to explore olympics.\n"
          ]
        }
      ],
      "source": [
        "# Get user input\n",
        "ans = False\n",
        "while not ans:\n",
        "    data = input('Would you like to explore olympics 2024 medals data or weather data? Choose olympics or weather: ').lower()\n",
        "    # possible options are olympics or weather\n",
        "    if data not in ['olympics', 'weather']:\n",
        "        print(\"Please say either olympics or weather.\")\n",
        "    else:\n",
        "        ans = True  # The input is valid, so we can exit the loop\n",
        "\n",
        "print(f\"You chose to explore {data}.\")"
      ]
    },
    {
      "cell_type": "code",
      "execution_count": 13,
      "metadata": {
        "colab": {
          "base_uri": "https://localhost:8080/"
        },
        "id": "L9R2xYJqQ9Sl",
        "outputId": "c7cace88-40ed-4432-b4e4-310f716369ee"
      },
      "outputs": [
        {
          "name": "stdout",
          "output_type": "stream",
          "text": [
            "Data loaded successfully!\n",
            "Data Ingestion Summary: 91 records, 6 columns\n",
            "Data Post Processing Summary: 91 records, 9 columns\n"
          ]
        }
      ],
      "source": [
        "# Read in csv file\n",
        "if (data == 'olympics'):\n",
        "    df = pd.read_csv('olympics_2024_medals_table.csv')\n",
        "    df.head(5)\n",
        "    print(\"Data loaded successfully!\")\n",
        "\n",
        "    # Brief summary of the data after ingestion\n",
        "    print(f\"Data Ingestion Summary: {len(df)} records, {len(df.columns)} columns\")\n",
        "\n",
        "    # Rename columns for easier access\n",
        "    df.rename(columns={'sliver':'silver', 'bronzs':'bronze'}, inplace=True)\n",
        "\n",
        "    # Add column for gold %\n",
        "    df['gold_pct'] = (df['gold'] / df['total']) * 100\n",
        "\n",
        "    # Add column for silver %\n",
        "    df['silver_pct'] = (df['silver'] / df['total']) * 100\n",
        "\n",
        "    # Add column for bronze %\n",
        "    df['bronze_pct'] = (df['bronze'] / df['total']) * 100\n",
        "\n",
        "    # Brief summary of the data after ingestion\n",
        "    print(f\"Data Post Processing Summary: {len(df)} records, {len(df.columns)} columns\")\n",
        "\n",
        "elif (data == 'weather'):\n",
        "    # Make the request\n",
        "    response = requests.get(url, params=querystring)\n",
        "\n",
        "    # Check if the request was successful\n",
        "    if response.status_code == 200:\n",
        "        # Parse the response JSON data\n",
        "        data = response.json()\n",
        "\n",
        "        # Save the data into a JSON file\n",
        "        with open('current_weather.json', 'w') as json_file:\n",
        "            json.dump(data, json_file, indent=4)\n",
        "\n",
        "        print(\"Weather data saved to 'current_weather.json'\")\n",
        "    else:\n",
        "        print(f\"Failed to retrieve data. Status code: {response.status_code}\")\n",
        "\n",
        "    df = pd.read_json('current_weather.json')\n",
        "\n",
        "            # Brief summary of the data after ingestion\n",
        "    print(f\"Weather Data Ingestion Summary: {len(df)} records, {len(df.columns)} columns\")\n",
        "\n",
        "    # Drop 'requests' from the location data\n",
        "    df.drop(columns=[\"request\"], inplace=True)\n",
        "\n",
        "    # Post processing: Generate summary after processing data\n",
        "    print(f\"Post Processing Summary: {len(df)} records, {len(df.columns)} columns\")"
      ]
    },
    {
      "cell_type": "code",
      "execution_count": 9,
      "metadata": {
        "colab": {
          "base_uri": "https://localhost:8080/"
        },
        "id": "LksqmJmpVQsQ",
        "outputId": "8b092c89-2938-469e-a6c6-9093730a3780"
      },
      "outputs": [
        {
          "name": "stdout",
          "output_type": "stream",
          "text": [
            "What form do you want the data to be in? Choose either csv, json, or sql: sql\n",
            "You chose sql.\n"
          ]
        }
      ],
      "source": [
        "# Get user input\n",
        "ans = False\n",
        "while not ans:\n",
        "    data_form = input(\"What form do you want the data to be in? Choose either csv, json, or sql: \").lower()\n",
        "    # possible options are sql, json, or csv\n",
        "    if data_form not in ['csv', 'json', 'sql']:\n",
        "        print(\"Please say either csv, json, or sql.\")\n",
        "    else:\n",
        "        ans = True  # The input is valid, so we can exit the loop\n",
        "\n",
        "print(f\"You chose {data_form}.\")"
      ]
    },
    {
      "cell_type": "code",
      "execution_count": null,
      "metadata": {
        "colab": {
          "base_uri": "https://localhost:8080/"
        },
        "id": "LWRcJp5_V_b8",
        "outputId": "59e51e20-ffc7-4063-9438-65056aa9f19b"
      },
      "outputs": [
        {
          "name": "stdout",
          "output_type": "stream",
          "text": [
            "Data saved to SQL database.\n"
          ]
        }
      ],
      "source": [
        "# Handle user-provided data form\n",
        "if data_form == 'csv':\n",
        "    # Save DataFrame as CSV\n",
        "    if (data == 'olympics'):\n",
        "      print('Data already in csv form')\n",
        "    elif (data == 'weather'):\n",
        "      df.to_csv('data.csv', index=False)\n",
        "      print(\"Data saved as CSV\")\n",
        "elif data_form == 'json':\n",
        "    # Save DataFrame as JSON\n",
        "    if (data == 'weather'):\n",
        "      print('Data already in json form')\n",
        "    elif (data == 'olympics'):\n",
        "      df.to_json('data.json', orient='records', indent=4)\n",
        "      print(\"Data saved as JSON.\")\n",
        "elif data_form == 'sql':\n",
        "    if (data == 'olympics'):\n",
        "      # Create or connect to an SQLite database\n",
        "      connection = sqlite3.connect('olympics_data.db')\n",
        "      cursor = connection.cursor()\n",
        "\n",
        "      # Save DataFrame to SQL database\n",
        "      df.to_sql('olympics_data', connection, if_exists='replace', index=False)\n",
        "      print(\"Data saved to SQL database.\")\n",
        "\n",
        "      # Commit and close the connection\n",
        "      connection.commit()\n",
        "      connection.close()\n",
        "    if (data == 'weather'):\n",
        "      # Create or connect to an SQLite database\n",
        "      connection = sqlite3.connect('weather_data.db')\n",
        "      cursor = connection.cursor()\n",
        "\n",
        "      # Save DataFrame to SQL database\n",
        "      df.to_sql('weather_data', connection, if_exists='replace', index=False)\n",
        "      print(\"Data saved to SQL database.\")\n",
        "\n",
        "      # Commit and close the connection\n",
        "      connection.commit()\n",
        "      connection.close()"
      ]
    }
  ],
  "metadata": {
    "colab": {
      "provenance": []
    },
    "kernelspec": {
      "display_name": "Python 3",
      "name": "python3"
    },
    "language_info": {
      "name": "python"
    }
  },
  "nbformat": 4,
  "nbformat_minor": 0
}
